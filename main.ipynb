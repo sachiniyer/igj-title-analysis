{
 "cells": [
  {
   "cell_type": "markdown",
   "id": "b0e4ad76-6c57-4ee8-a5ef-316f8202d12e",
   "metadata": {},
   "source": [
    "# Indian Geography Journal Title Analysis\n",
    "\n",
    "Use a list of titles in `data.txt` and compute just bare word frequency and then compute TF-IDF. This should give us a representation of how important words are in titles of articles."
   ]
  },
  {
   "cell_type": "code",
   "execution_count": 2,
   "id": "8f1398f6-da4b-4346-ad74-4ec8125936fb",
   "metadata": {
    "tags": []
   },
   "outputs": [],
   "source": [
    "import nltk\n",
    "from nltk.corpus import stopwords\n",
    "from nltk.stem import WordNetLemmatizer\n",
    "from collections import Counter\n",
    "import string\n",
    "\n",
    "from sklearn.feature_extraction.text import TfidfVectorizer\n",
    "import numpy as np"
   ]
  },
  {
   "cell_type": "markdown",
   "id": "29065e60-96ce-4907-a86a-a80f5588bbbe",
   "metadata": {},
   "source": [
    "## Read in data\n",
    "\n",
    "Just read each line and strip out the whitespace on the ends - do more processing later"
   ]
  },
  {
   "cell_type": "code",
   "execution_count": 3,
   "id": "aa1eb2c6-e4f5-4cea-97e3-9fc195a0f7ca",
   "metadata": {
    "tags": []
   },
   "outputs": [],
   "source": [
    "file_path = \"data.txt\"\n",
    "lines = []\n",
    "with open(file_path, \"r\") as file:\n",
    "    for line in file:\n",
    "        lines.append(line.strip())"
   ]
  },
  {
   "cell_type": "markdown",
   "id": "9d56164e-c84d-4a22-9b76-813cf1aa1ef2",
   "metadata": {},
   "source": [
    "## Word Frequency\n",
    "\n",
    "1. Create tools \n",
    "    * Download nltk data\n",
    "    * Create lemmatizer from nltk as well\n",
    "2. Create stopwords  \n",
    "    * ntlk stopwords\n",
    "    * punctuation\n",
    "    * empty strings, and \\'s\n",
    "3. Create corpus\n",
    "    * Join the lines into a corpus\n",
    "    * tokenize the words with nltk\n",
    "    * strip out punctuation from the words\n",
    "    * take out stop words, and then lemmatize the words (and lower them)\n",
    "4. Count words\n",
    "    * Use counter and count the frequencies\n",
    "    * sort the words by frequency\n",
    "5. Write out data\n",
    "    * Just write term and frequency each line in order"
   ]
  },
  {
   "cell_type": "code",
   "execution_count": 4,
   "id": "4d0987a9-33a4-4373-897c-bfbfacbe3753",
   "metadata": {
    "collapsed": true,
    "jupyter": {
     "outputs_hidden": true
    },
    "tags": []
   },
   "outputs": [
    {
     "name": "stderr",
     "output_type": "stream",
     "text": [
      "[nltk_data] Downloading package wordnet to /home/jovyan/nltk_data...\n",
      "[nltk_data]   Package wordnet is already up-to-date!\n",
      "[nltk_data] Downloading package stopwords to /home/jovyan/nltk_data...\n",
      "[nltk_data]   Package stopwords is already up-to-date!\n",
      "[nltk_data] Downloading package punkt to /home/jovyan/nltk_data...\n",
      "[nltk_data]   Package punkt is already up-to-date!\n"
     ]
    }
   ],
   "source": [
    "nltk.download('wordnet')\n",
    "nltk.download('stopwords')\n",
    "nltk.download('punkt')\n",
    "lemmatizer = WordNetLemmatizer()"
   ]
  },
  {
   "cell_type": "code",
   "execution_count": 6,
   "id": "ce075083-6147-483a-96a3-fd74e277e274",
   "metadata": {
    "tags": []
   },
   "outputs": [],
   "source": [
    "stop_words = set(stopwords.words('english'))\n",
    "stop_words.update(set(string.punctuation))\n",
    "stop_words.update([\"'s\", \"\"])"
   ]
  },
  {
   "cell_type": "code",
   "execution_count": 7,
   "id": "a9f9c5df-0aa4-44f6-8214-a7c376feaacf",
   "metadata": {
    "tags": []
   },
   "outputs": [],
   "source": [
    "corpus = \" \".join(lines)\n",
    "words = [word.strip(string.punctuation) for word in nltk.word_tokenize(corpus)]\n",
    "filtered_words = [lemmatizer.lemmatize(word).lower() for word in words if word.lower() not in stop_words]"
   ]
  },
  {
   "cell_type": "code",
   "execution_count": 8,
   "id": "298cab59-1ead-46ed-a2ae-a208ae50f87a",
   "metadata": {
    "tags": []
   },
   "outputs": [],
   "source": [
    "freqs = Counter(filtered_words)\n",
    "sorted_word_freq = sorted(freqs.items(), key=lambda x: x[1], reverse=True)"
   ]
  },
  {
   "cell_type": "code",
   "execution_count": 8,
   "id": "1d6b622e-968a-46a1-aac5-6536dde6ccaf",
   "metadata": {
    "tags": []
   },
   "outputs": [],
   "source": [
    "file_path = \"frequency.txt\"\n",
    "with open(file_path, \"w\") as file:\n",
    "    for word, freq in sorted_word_freq:\n",
    "        file.write(f\"{word}: {freq}\\n\")"
   ]
  },
  {
   "cell_type": "markdown",
   "id": "0fb93cd3-a0a9-4e05-b743-cba0e0a803b8",
   "metadata": {},
   "source": [
    "# TF-IDF\n",
    "1. Use sklearn to create a vectorizer\n",
    "    * max_df - include almost all words\n",
    "    * max_features - I want to include all words (~2500 unique words in the text)\n",
    "    * English, because we are dealing with english\n",
    "2. Create a matrix of tf-idf features for each of the titles\n",
    "    * \n",
    "3. Respectively sum the tf-idf values for each word across each of the titles\n",
    "4. Retrieve the terms from the vectorizer \n",
    "5. Create a dictionary of terms and tfidf scores\n",
    "    * Just zip the arrays because they are both in alphanumeric order\n",
    "6. Sort the dictionary of terms and tfidf scores by tfidf score"
   ]
  },
  {
   "cell_type": "code",
   "execution_count": 16,
   "id": "5cf4e71a-04d4-48c6-8c46-a00ab5af96fa",
   "metadata": {
    "tags": []
   },
   "outputs": [],
   "source": [
    "vectorizer = TfidfVectorizer(max_df=0.95, max_features=3000, stop_words='english')\n",
    "matrix = vectorizer.fit_transform(lines)\n",
    "tfidf_sum = np.sum(matrix, axis=0)\n",
    "terms = vectorizer.get_feature_names_out()\n",
    "term_dict = {term: score for term, score in zip(terms, tfidf_sum.tolist()[0])}\n",
    "sorted_term_dict = sorted(term_dict.items(), key=lambda x: x[1], reverse=True)"
   ]
  },
  {
   "cell_type": "code",
   "execution_count": 12,
   "id": "2ead1cc3-a134-4c8e-8735-47e5eb420d0e",
   "metadata": {
    "tags": []
   },
   "outputs": [],
   "source": [
    "file_path = \"tf-idf.txt\"\n",
    "with open(file_path, \"w\") as file:\n",
    "    for term, score in sorted_term_dict:\n",
    "        file.write(f\"{term}: {score}\\n\")"
   ]
  },
  {
   "cell_type": "code",
   "execution_count": null,
   "id": "00c8869e-cf94-467b-be13-0b1cd05bc196",
   "metadata": {},
   "outputs": [],
   "source": []
  }
 ],
 "metadata": {
  "kernelspec": {
   "display_name": "Python 3 (ipykernel)",
   "language": "python",
   "name": "python3"
  },
  "language_info": {
   "codemirror_mode": {
    "name": "ipython",
    "version": 3
   },
   "file_extension": ".py",
   "mimetype": "text/x-python",
   "name": "python",
   "nbconvert_exporter": "python",
   "pygments_lexer": "ipython3",
   "version": "3.11.5"
  }
 },
 "nbformat": 4,
 "nbformat_minor": 5
}
