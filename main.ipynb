{
 "cells": [
  {
   "cell_type": "code",
   "execution_count": 1,
   "id": "8f1398f6-da4b-4346-ad74-4ec8125936fb",
   "metadata": {
    "tags": []
   },
   "outputs": [],
   "source": [
    "import nltk\n",
    "from nltk.corpus import stopwords\n",
    "from nltk.stem import WordNetLemmatizer\n",
    "from collections import Counter\n",
    "import string\n",
    "\n",
    "from sklearn.feature_extraction.text import TfidfVectorizer\n",
    "import numpy as np"
   ]
  },
  {
   "cell_type": "code",
   "execution_count": 2,
   "id": "aa1eb2c6-e4f5-4cea-97e3-9fc195a0f7ca",
   "metadata": {
    "tags": []
   },
   "outputs": [],
   "source": [
    "file_path = \"data.txt\"\n",
    "lines = []\n",
    "with open(file_path, \"r\") as file:\n",
    "    for line in file:\n",
    "        lines.append(line.strip())"
   ]
  },
  {
   "cell_type": "code",
   "execution_count": 3,
   "id": "4d0987a9-33a4-4373-897c-bfbfacbe3753",
   "metadata": {
    "tags": []
   },
   "outputs": [
    {
     "name": "stderr",
     "output_type": "stream",
     "text": [
      "[nltk_data] Downloading package wordnet to /home/jovyan/nltk_data...\n",
      "[nltk_data]   Package wordnet is already up-to-date!\n",
      "[nltk_data] Downloading package stopwords to /home/jovyan/nltk_data...\n",
      "[nltk_data]   Package stopwords is already up-to-date!\n",
      "[nltk_data] Downloading package punkt to /home/jovyan/nltk_data...\n",
      "[nltk_data]   Package punkt is already up-to-date!\n"
     ]
    }
   ],
   "source": [
    "nltk.download('wordnet')\n",
    "nltk.download('stopwords')\n",
    "nltk.download('punkt')\n",
    "lemmatizer = WordNetLemmatizer()\n",
    "stop_words = set(stopwords.words('english'))"
   ]
  },
  {
   "cell_type": "code",
   "execution_count": 8,
   "id": "a9f9c5df-0aa4-44f6-8214-a7c376feaacf",
   "metadata": {
    "tags": []
   },
   "outputs": [],
   "source": [
    "corpus = \" \".join(lines)\n",
    "words = nltk.word_tokenize(corpus)\n",
    "words = [word.strip(string.punctuation) for word in words]\n",
    "stop_words.update(set(string.punctuation))\n",
    "stop_words.update([\"'s\", \"\"])"
   ]
  },
  {
   "cell_type": "code",
   "execution_count": 9,
   "id": "2f008865-053d-4ae4-b019-e175cf7b6a62",
   "metadata": {
    "tags": []
   },
   "outputs": [],
   "source": [
    "filtered_words = [lemmatizer.lemmatize(word).lower() for word in words if word.lower() not in stop_words]"
   ]
  },
  {
   "cell_type": "code",
   "execution_count": 10,
   "id": "39d2c20d-d3ec-4d39-8741-70413d5bb120",
   "metadata": {
    "tags": []
   },
   "outputs": [],
   "source": [
    "freqs = Counter(filtered_words)\n",
    "sorted_word_freq = sorted(freqs.items(), key=lambda x: x[1], reverse=True)\n",
    "\n",
    "file_path = \"frequency.txt\"\n",
    "with open(file_path, \"w\") as file:\n",
    "    for word, freq in sorted_word_freq:\n",
    "        file.write(f\"{word}: {freq}\\n\")"
   ]
  },
  {
   "cell_type": "code",
   "execution_count": 7,
   "id": "6eb2eee3-291f-45c4-963a-517197920612",
   "metadata": {
    "tags": []
   },
   "outputs": [],
   "source": [
    "vectorizer = TfidfVectorizer(max_df=0.90, max_features=1500, stop_words='english')\n",
    "matrix = vectorizer.fit_transform(lines)\n",
    "tfidf_sum = np.sum(matrix, axis=0)\n",
    "terms = vectorizer.get_feature_names_out()\n",
    "term_dict = {term: score for term, score in zip(terms, tfidf_sum.tolist()[0])}\n",
    "sorted_term_dict = sorted(term_dict.items(), key=lambda x: x[1], reverse=True)\n",
    "file_path = \"tf-idf.txt\"\n",
    "with open(file_path, \"w\") as file:\n",
    "    for term, score in sorted_term_dict:\n",
    "        file.write(f\"{term}: {score}\\n\")"
   ]
  },
  {
   "cell_type": "code",
   "execution_count": null,
   "id": "00c8869e-cf94-467b-be13-0b1cd05bc196",
   "metadata": {},
   "outputs": [],
   "source": []
  }
 ],
 "metadata": {
  "kernelspec": {
   "display_name": "Python 3 (ipykernel)",
   "language": "python",
   "name": "python3"
  },
  "language_info": {
   "codemirror_mode": {
    "name": "ipython",
    "version": 3
   },
   "file_extension": ".py",
   "mimetype": "text/x-python",
   "name": "python",
   "nbconvert_exporter": "python",
   "pygments_lexer": "ipython3",
   "version": "3.11.5"
  }
 },
 "nbformat": 4,
 "nbformat_minor": 5
}
